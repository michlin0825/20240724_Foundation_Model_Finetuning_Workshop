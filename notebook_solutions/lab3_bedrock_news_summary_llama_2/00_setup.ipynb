{
 "cells": [
  {
   "cell_type": "markdown",
   "id": "3aa97432-05f5-4089-8fc6-3d45e8436f52",
   "metadata": {},
   "source": [
    "# Setup for running customization notebooks both for fine-tuning and continued pre-training using Amazon Bedrock\n",
    "\n",
    "In this notebook, we will create set of roles and an s3 bucket which will be used for other notebooks in this module. "
   ]
  },
  {
   "cell_type": "markdown",
   "id": "5f7af570-3b64-45e3-a9a9-a976ea7b51e6",
   "metadata": {},
   "source": [
    "> This notebook should work well with the **`Data Science 3.0`**, **`Python 3`**, and **`ml.c5.2xlarge`** kernel in SageMaker Studio\n",
    "\n",
    "## Prerequisites\n",
    "\n",
    "###  Custom job role\n",
    "The notebook allows you to either create a Bedrock role for running customization jobs in the **Create IAM customisation job role** section or you can skip this section and create Bedrock Service role for customization jobs following [instructions on managing permissions for customization jobs](https://docs.aws.amazon.com/bedrock/latest/userguide/model-customization-iam-role.html). If you want to using an existing custom job role please edit the variable **customization_role** and also ensure it has access to the S3 bucket which is created containing the dataset. \n",
    "\n",
    "#### Create IAM Pre-requisites\n",
    "\n",
    "This notebook requires permissions to: \n",
    "- create and delete Amazon IAM roles\n",
    "- create, update and delete Amazon S3 buckets \n",
    "- access Amazon Bedrock \n",
    "\n",
    "If you are running this notebook without an Admin role, make sure that your role include the following managed policies:\n",
    "- IAMFullAccess\n",
    "- AmazonS3FullAccess\n",
    "- AmazonBedrockFullAccess\n",
    "\n",
    "\n",
    "\n",
    "- You can also create a csustom model in the Bedrock console following the instructions [here](https://docs.aws.amazon.com/bedrock/latest/userguide/model-customization-console.html)."
   ]
  },
  {
   "cell_type": "markdown",
   "id": "3af81567-a342-43ae-b15f-606d13442225",
   "metadata": {},
   "source": [
    "## Setup\n",
    "Install and import all the needed libraries and dependencies to complete this notebook.\n",
    "\n",
    "<div class=\"alert alert-block alert-warning\">\n",
    "<b>Warning:</b> Please ignore error messages related to pip's dependency resolver.\n",
    "</div>"
   ]
  },
  {
   "cell_type": "code",
   "execution_count": 2,
   "id": "110f5f5a-6443-4ce9-afb2-3a5da004f55b",
   "metadata": {
    "scrolled": true,
    "tags": []
   },
   "outputs": [
    {
     "name": "stdout",
     "output_type": "stream",
     "text": [
      "Requirement already satisfied: pip in /opt/conda/lib/python3.10/site-packages (24.1.2)\n",
      "\u001b[33mWARNING: Running pip as the 'root' user can result in broken permissions and conflicting behaviour with the system package manager, possibly rendering your system unusable.It is recommended to use a virtual environment instead: https://pip.pypa.io/warnings/venv. Use the --root-user-action option if you know what you are doing and want to suppress this warning.\u001b[0m\u001b[33m\n",
      "\u001b[0mCollecting boto3>=1.28.57\n",
      "  Using cached boto3-1.34.143-py3-none-any.whl.metadata (6.6 kB)\n",
      "Collecting awscli>=1.29.57\n",
      "  Using cached awscli-1.33.25-py3-none-any.whl.metadata (11 kB)\n",
      "Collecting botocore>=1.31.57\n",
      "  Using cached botocore-1.34.143-py3-none-any.whl.metadata (5.7 kB)\n",
      "Collecting jmespath<2.0.0,>=0.7.1 (from boto3>=1.28.57)\n",
      "  Using cached jmespath-1.0.1-py3-none-any.whl.metadata (7.6 kB)\n",
      "Collecting s3transfer<0.11.0,>=0.10.0 (from boto3>=1.28.57)\n",
      "  Using cached s3transfer-0.10.2-py3-none-any.whl.metadata (1.7 kB)\n",
      "Collecting docutils<0.17,>=0.10 (from awscli>=1.29.57)\n",
      "  Using cached docutils-0.16-py2.py3-none-any.whl.metadata (2.7 kB)\n",
      "Collecting PyYAML<6.1,>=3.10 (from awscli>=1.29.57)\n",
      "  Using cached PyYAML-6.0.1-cp310-cp310-manylinux_2_17_x86_64.manylinux2014_x86_64.whl.metadata (2.1 kB)\n",
      "Collecting colorama<0.4.7,>=0.2.5 (from awscli>=1.29.57)\n",
      "  Using cached colorama-0.4.6-py2.py3-none-any.whl.metadata (17 kB)\n",
      "Collecting rsa<4.8,>=3.1.2 (from awscli>=1.29.57)\n",
      "  Using cached rsa-4.7.2-py3-none-any.whl.metadata (3.6 kB)\n",
      "Collecting python-dateutil<3.0.0,>=2.1 (from botocore>=1.31.57)\n",
      "  Using cached python_dateutil-2.9.0.post0-py2.py3-none-any.whl.metadata (8.4 kB)\n",
      "Collecting urllib3!=2.2.0,<3,>=1.25.4 (from botocore>=1.31.57)\n",
      "  Using cached urllib3-2.2.2-py3-none-any.whl.metadata (6.4 kB)\n",
      "Collecting six>=1.5 (from python-dateutil<3.0.0,>=2.1->botocore>=1.31.57)\n",
      "  Using cached six-1.16.0-py2.py3-none-any.whl.metadata (1.8 kB)\n",
      "Collecting pyasn1>=0.1.3 (from rsa<4.8,>=3.1.2->awscli>=1.29.57)\n",
      "  Using cached pyasn1-0.6.0-py2.py3-none-any.whl.metadata (8.3 kB)\n",
      "Using cached boto3-1.34.143-py3-none-any.whl (139 kB)\n",
      "Using cached awscli-1.33.25-py3-none-any.whl (4.5 MB)\n",
      "Using cached botocore-1.34.143-py3-none-any.whl (12.4 MB)\n",
      "Using cached colorama-0.4.6-py2.py3-none-any.whl (25 kB)\n",
      "Using cached docutils-0.16-py2.py3-none-any.whl (548 kB)\n",
      "Using cached jmespath-1.0.1-py3-none-any.whl (20 kB)\n",
      "Using cached python_dateutil-2.9.0.post0-py2.py3-none-any.whl (229 kB)\n",
      "Using cached PyYAML-6.0.1-cp310-cp310-manylinux_2_17_x86_64.manylinux2014_x86_64.whl (705 kB)\n",
      "Using cached rsa-4.7.2-py3-none-any.whl (34 kB)\n",
      "Using cached s3transfer-0.10.2-py3-none-any.whl (82 kB)\n",
      "Using cached urllib3-2.2.2-py3-none-any.whl (121 kB)\n",
      "Using cached pyasn1-0.6.0-py2.py3-none-any.whl (85 kB)\n",
      "Using cached six-1.16.0-py2.py3-none-any.whl (11 kB)\n",
      "Installing collected packages: urllib3, six, PyYAML, pyasn1, jmespath, docutils, colorama, rsa, python-dateutil, botocore, s3transfer, boto3, awscli\n",
      "  Attempting uninstall: urllib3\n",
      "    Found existing installation: urllib3 2.1.0\n",
      "    Uninstalling urllib3-2.1.0:\n",
      "      Successfully uninstalled urllib3-2.1.0\n",
      "  Attempting uninstall: six\n",
      "    Found existing installation: six 1.16.0\n",
      "    Uninstalling six-1.16.0:\n",
      "      Successfully uninstalled six-1.16.0\n",
      "  Attempting uninstall: PyYAML\n",
      "    Found existing installation: PyYAML 6.0.1\n",
      "    Uninstalling PyYAML-6.0.1:\n",
      "      Successfully uninstalled PyYAML-6.0.1\n",
      "  Attempting uninstall: pyasn1\n",
      "    Found existing installation: pyasn1 0.6.0\n",
      "    Uninstalling pyasn1-0.6.0:\n",
      "      Successfully uninstalled pyasn1-0.6.0\n",
      "  Attempting uninstall: jmespath\n",
      "    Found existing installation: jmespath 1.0.1\n",
      "    Uninstalling jmespath-1.0.1:\n",
      "      Successfully uninstalled jmespath-1.0.1\n",
      "  Attempting uninstall: docutils\n",
      "    Found existing installation: docutils 0.16\n",
      "    Uninstalling docutils-0.16:\n",
      "      Successfully uninstalled docutils-0.16\n",
      "  Attempting uninstall: colorama\n",
      "    Found existing installation: colorama 0.4.6\n",
      "    Uninstalling colorama-0.4.6:\n",
      "      Successfully uninstalled colorama-0.4.6\n",
      "  Attempting uninstall: rsa\n",
      "    Found existing installation: rsa 4.7.2\n",
      "    Uninstalling rsa-4.7.2:\n",
      "      Successfully uninstalled rsa-4.7.2\n",
      "  Attempting uninstall: python-dateutil\n",
      "    Found existing installation: python-dateutil 2.9.0.post0\n",
      "    Uninstalling python-dateutil-2.9.0.post0:\n",
      "      Successfully uninstalled python-dateutil-2.9.0.post0\n",
      "  Attempting uninstall: botocore\n",
      "    Found existing installation: botocore 1.34.143\n",
      "    Uninstalling botocore-1.34.143:\n",
      "      Successfully uninstalled botocore-1.34.143\n",
      "  Attempting uninstall: s3transfer\n",
      "    Found existing installation: s3transfer 0.10.2\n",
      "    Uninstalling s3transfer-0.10.2:\n",
      "      Successfully uninstalled s3transfer-0.10.2\n",
      "  Attempting uninstall: boto3\n",
      "    Found existing installation: boto3 1.34.143\n",
      "    Uninstalling boto3-1.34.143:\n",
      "      Successfully uninstalled boto3-1.34.143\n",
      "  Attempting uninstall: awscli\n",
      "    Found existing installation: awscli 1.33.25\n",
      "    Uninstalling awscli-1.33.25:\n",
      "      Successfully uninstalled awscli-1.33.25\n",
      "\u001b[31mERROR: pip's dependency resolver does not currently take into account all the packages that are installed. This behaviour is the source of the following dependency conflicts.\n",
      "sagemaker-datawrangler 0.4.3 requires sagemaker-data-insights==0.4.0, but you have sagemaker-data-insights 0.3.3 which is incompatible.\n",
      "sphinx 7.2.6 requires docutils<0.21,>=0.18.1, but you have docutils 0.16 which is incompatible.\u001b[0m\u001b[31m\n",
      "\u001b[0mSuccessfully installed PyYAML-6.0.1 awscli-1.33.25 boto3-1.34.143 botocore-1.34.143 colorama-0.4.6 docutils-0.16 jmespath-1.0.1 pyasn1-0.6.0 python-dateutil-2.9.0.post0 rsa-4.7.2 s3transfer-0.10.2 six-1.16.0 urllib3-2.2.2\n",
      "\u001b[33mWARNING: Running pip as the 'root' user can result in broken permissions and conflicting behaviour with the system package manager, possibly rendering your system unusable.It is recommended to use a virtual environment instead: https://pip.pypa.io/warnings/venv. Use the --root-user-action option if you know what you are doing and want to suppress this warning.\u001b[0m\u001b[33m\n",
      "\u001b[0mNote: you may need to restart the kernel to use updated packages.\n",
      "\u001b[31mERROR: pip's dependency resolver does not currently take into account all the packages that are installed. This behaviour is the source of the following dependency conflicts.\n",
      "sagemaker-datawrangler 0.4.3 requires sagemaker-data-insights==0.4.0, but you have sagemaker-data-insights 0.3.3 which is incompatible.\n",
      "sphinx 7.2.6 requires docutils<0.21,>=0.18.1, but you have docutils 0.16 which is incompatible.\u001b[0m\u001b[31m\n",
      "\u001b[0m\u001b[33mWARNING: Running pip as the 'root' user can result in broken permissions and conflicting behaviour with the system package manager, possibly rendering your system unusable.It is recommended to use a virtual environment instead: https://pip.pypa.io/warnings/venv. Use the --root-user-action option if you know what you are doing and want to suppress this warning.\u001b[0m\u001b[33m\n",
      "\u001b[0m/bin/bash: line 1: 8: No such file or directory\n",
      "Requirement already satisfied: jsonlines in /opt/conda/lib/python3.10/site-packages (4.0.0)\n",
      "Requirement already satisfied: attrs>=19.2.0 in /opt/conda/lib/python3.10/site-packages (from jsonlines) (23.2.0)\n",
      "\u001b[33mWARNING: Running pip as the 'root' user can result in broken permissions and conflicting behaviour with the system package manager, possibly rendering your system unusable.It is recommended to use a virtual environment instead: https://pip.pypa.io/warnings/venv. Use the --root-user-action option if you know what you are doing and want to suppress this warning.\u001b[0m\u001b[33m\n",
      "\u001b[0mRequirement already satisfied: datasets==2.15.0 in /opt/conda/lib/python3.10/site-packages (2.15.0)\n",
      "Requirement already satisfied: numpy>=1.17 in /opt/conda/lib/python3.10/site-packages (from datasets==2.15.0) (1.26.4)\n",
      "Requirement already satisfied: pyarrow>=8.0.0 in /opt/conda/lib/python3.10/site-packages (from datasets==2.15.0) (15.0.2)\n",
      "Requirement already satisfied: pyarrow-hotfix in /opt/conda/lib/python3.10/site-packages (from datasets==2.15.0) (0.6)\n",
      "Requirement already satisfied: dill<0.3.8,>=0.3.0 in /opt/conda/lib/python3.10/site-packages (from datasets==2.15.0) (0.3.7)\n",
      "Requirement already satisfied: pandas in /opt/conda/lib/python3.10/site-packages (from datasets==2.15.0) (2.1.3)\n",
      "Requirement already satisfied: requests>=2.19.0 in /opt/conda/lib/python3.10/site-packages (from datasets==2.15.0) (2.32.3)\n",
      "Requirement already satisfied: tqdm>=4.62.1 in /opt/conda/lib/python3.10/site-packages (from datasets==2.15.0) (4.66.1)\n",
      "Requirement already satisfied: xxhash in /opt/conda/lib/python3.10/site-packages (from datasets==2.15.0) (3.4.1)\n",
      "Requirement already satisfied: multiprocess in /opt/conda/lib/python3.10/site-packages (from datasets==2.15.0) (0.70.15)\n",
      "Requirement already satisfied: fsspec<=2023.10.0,>=2023.1.0 in /opt/conda/lib/python3.10/site-packages (from fsspec[http]<=2023.10.0,>=2023.1.0->datasets==2.15.0) (2023.10.0)\n",
      "Requirement already satisfied: aiohttp in /opt/conda/lib/python3.10/site-packages (from datasets==2.15.0) (3.9.5)\n",
      "Requirement already satisfied: huggingface-hub>=0.18.0 in /opt/conda/lib/python3.10/site-packages (from datasets==2.15.0) (0.23.4)\n",
      "Requirement already satisfied: packaging in /opt/conda/lib/python3.10/site-packages (from datasets==2.15.0) (24.1)\n",
      "Requirement already satisfied: pyyaml>=5.1 in /opt/conda/lib/python3.10/site-packages (from datasets==2.15.0) (6.0.1)\n",
      "Requirement already satisfied: aiosignal>=1.1.2 in /opt/conda/lib/python3.10/site-packages (from aiohttp->datasets==2.15.0) (1.3.1)\n",
      "Requirement already satisfied: attrs>=17.3.0 in /opt/conda/lib/python3.10/site-packages (from aiohttp->datasets==2.15.0) (23.2.0)\n",
      "Requirement already satisfied: frozenlist>=1.1.1 in /opt/conda/lib/python3.10/site-packages (from aiohttp->datasets==2.15.0) (1.4.1)\n",
      "Requirement already satisfied: multidict<7.0,>=4.5 in /opt/conda/lib/python3.10/site-packages (from aiohttp->datasets==2.15.0) (6.0.5)\n",
      "Requirement already satisfied: yarl<2.0,>=1.0 in /opt/conda/lib/python3.10/site-packages (from aiohttp->datasets==2.15.0) (1.9.4)\n",
      "Requirement already satisfied: async-timeout<5.0,>=4.0 in /opt/conda/lib/python3.10/site-packages (from aiohttp->datasets==2.15.0) (4.0.3)\n",
      "Requirement already satisfied: filelock in /opt/conda/lib/python3.10/site-packages (from huggingface-hub>=0.18.0->datasets==2.15.0) (3.13.4)\n",
      "Requirement already satisfied: typing-extensions>=3.7.4.3 in /opt/conda/lib/python3.10/site-packages (from huggingface-hub>=0.18.0->datasets==2.15.0) (4.12.2)\n",
      "Requirement already satisfied: charset-normalizer<4,>=2 in /opt/conda/lib/python3.10/site-packages (from requests>=2.19.0->datasets==2.15.0) (3.3.2)\n",
      "Requirement already satisfied: idna<4,>=2.5 in /opt/conda/lib/python3.10/site-packages (from requests>=2.19.0->datasets==2.15.0) (3.7)\n",
      "Requirement already satisfied: urllib3<3,>=1.21.1 in /opt/conda/lib/python3.10/site-packages (from requests>=2.19.0->datasets==2.15.0) (2.1.0)\n",
      "Requirement already satisfied: certifi>=2017.4.17 in /opt/conda/lib/python3.10/site-packages (from requests>=2.19.0->datasets==2.15.0) (2024.7.4)\n",
      "Requirement already satisfied: python-dateutil>=2.8.2 in /opt/conda/lib/python3.10/site-packages (from pandas->datasets==2.15.0) (2.9.0.post0)\n",
      "Requirement already satisfied: pytz>=2020.1 in /opt/conda/lib/python3.10/site-packages (from pandas->datasets==2.15.0) (2024.1)\n",
      "Requirement already satisfied: tzdata>=2022.1 in /opt/conda/lib/python3.10/site-packages (from pandas->datasets==2.15.0) (2024.1)\n",
      "Requirement already satisfied: six>=1.5 in /opt/conda/lib/python3.10/site-packages (from python-dateutil>=2.8.2->pandas->datasets==2.15.0) (1.16.0)\n",
      "\u001b[33mWARNING: Running pip as the 'root' user can result in broken permissions and conflicting behaviour with the system package manager, possibly rendering your system unusable.It is recommended to use a virtual environment instead: https://pip.pypa.io/warnings/venv. Use the --root-user-action option if you know what you are doing and want to suppress this warning.\u001b[0m\u001b[33m\n",
      "\u001b[0mRequirement already satisfied: pandas==2.1.3 in /opt/conda/lib/python3.10/site-packages (2.1.3)\n",
      "Requirement already satisfied: numpy<2,>=1.22.4 in /opt/conda/lib/python3.10/site-packages (from pandas==2.1.3) (1.26.4)\n",
      "Requirement already satisfied: python-dateutil>=2.8.2 in /opt/conda/lib/python3.10/site-packages (from pandas==2.1.3) (2.9.0.post0)\n",
      "Requirement already satisfied: pytz>=2020.1 in /opt/conda/lib/python3.10/site-packages (from pandas==2.1.3) (2024.1)\n",
      "Requirement already satisfied: tzdata>=2022.1 in /opt/conda/lib/python3.10/site-packages (from pandas==2.1.3) (2024.1)\n",
      "Requirement already satisfied: six>=1.5 in /opt/conda/lib/python3.10/site-packages (from python-dateutil>=2.8.2->pandas==2.1.3) (1.16.0)\n",
      "\u001b[33mWARNING: Running pip as the 'root' user can result in broken permissions and conflicting behaviour with the system package manager, possibly rendering your system unusable.It is recommended to use a virtual environment instead: https://pip.pypa.io/warnings/venv. Use the --root-user-action option if you know what you are doing and want to suppress this warning.\u001b[0m\u001b[33m\n",
      "\u001b[0mRequirement already satisfied: matplotlib==3.8.2 in /opt/conda/lib/python3.10/site-packages (3.8.2)\n",
      "Requirement already satisfied: contourpy>=1.0.1 in /opt/conda/lib/python3.10/site-packages (from matplotlib==3.8.2) (1.2.1)\n",
      "Requirement already satisfied: cycler>=0.10 in /opt/conda/lib/python3.10/site-packages (from matplotlib==3.8.2) (0.12.1)\n",
      "Requirement already satisfied: fonttools>=4.22.0 in /opt/conda/lib/python3.10/site-packages (from matplotlib==3.8.2) (4.51.0)\n",
      "Requirement already satisfied: kiwisolver>=1.3.1 in /opt/conda/lib/python3.10/site-packages (from matplotlib==3.8.2) (1.4.5)\n",
      "Requirement already satisfied: numpy<2,>=1.21 in /opt/conda/lib/python3.10/site-packages (from matplotlib==3.8.2) (1.26.4)\n",
      "Requirement already satisfied: packaging>=20.0 in /opt/conda/lib/python3.10/site-packages (from matplotlib==3.8.2) (24.1)\n",
      "Requirement already satisfied: pillow>=8 in /opt/conda/lib/python3.10/site-packages (from matplotlib==3.8.2) (10.3.0)\n",
      "Requirement already satisfied: pyparsing>=2.3.1 in /opt/conda/lib/python3.10/site-packages (from matplotlib==3.8.2) (3.1.2)\n",
      "Requirement already satisfied: python-dateutil>=2.7 in /opt/conda/lib/python3.10/site-packages (from matplotlib==3.8.2) (2.9.0.post0)\n",
      "Requirement already satisfied: six>=1.5 in /opt/conda/lib/python3.10/site-packages (from python-dateutil>=2.7->matplotlib==3.8.2) (1.16.0)\n",
      "\u001b[33mWARNING: Running pip as the 'root' user can result in broken permissions and conflicting behaviour with the system package manager, possibly rendering your system unusable.It is recommended to use a virtual environment instead: https://pip.pypa.io/warnings/venv. Use the --root-user-action option if you know what you are doing and want to suppress this warning.\u001b[0m\u001b[33m\n",
      "\u001b[0m"
     ]
    }
   ],
   "source": [
    "!pip install --upgrade pip\n",
    "%pip install --no-build-isolation --force-reinstall \\\n",
    "    \"boto3>=1.28.57\" \\\n",
    "    \"awscli>=1.29.57\" \\\n",
    "    \"botocore>=1.31.57\"\n",
    "!pip install -qU --force-reinstall langchain typing_extensions pypdf urllib3==2.1.0\n",
    "!pip install -qU ipywidgets>=7,<8\n",
    "!pip install jsonlines\n",
    "!pip install datasets==2.15.0\n",
    "!pip install pandas==2.1.3\n",
    "!pip install matplotlib==3.8.2"
   ]
  },
  {
   "cell_type": "code",
   "execution_count": 3,
   "id": "0c80e0aa-f0f4-483c-8477-77f522cee440",
   "metadata": {
    "tags": []
   },
   "outputs": [
    {
     "data": {
      "text/html": [
       "<script>Jupyter.notebook.kernel.restart()</script>"
      ],
      "text/plain": [
       "<IPython.core.display.HTML object>"
      ]
     },
     "execution_count": 3,
     "metadata": {},
     "output_type": "execute_result"
    }
   ],
   "source": [
    "# restart kernel for packages to take effect\n",
    "from IPython.core.display import HTML\n",
    "HTML(\"<script>Jupyter.notebook.kernel.restart()</script>\")"
   ]
  },
  {
   "cell_type": "code",
   "execution_count": 4,
   "id": "dd869761-fa24-4baf-9049-aec6e032d57d",
   "metadata": {
    "tags": []
   },
   "outputs": [],
   "source": [
    "import warnings\n",
    "warnings.filterwarnings('ignore')\n",
    "import json\n",
    "import os\n",
    "import sys\n",
    "import boto3 \n",
    "import time\n",
    "import pprint\n",
    "from datasets import load_dataset\n",
    "import random\n",
    "import jsonlines"
   ]
  },
  {
   "cell_type": "code",
   "execution_count": 5,
   "id": "6320c431-ca74-4606-a276-f9ad3118dd92",
   "metadata": {
    "tags": []
   },
   "outputs": [],
   "source": [
    "session = boto3.session.Session()\n",
    "region = session.region_name\n",
    "sts_client = boto3.client('sts')\n",
    "account_id = sts_client.get_caller_identity()[\"Account\"]\n",
    "s3_suffix = f\"{region}-{account_id}\"\n",
    "bucket_name = f\"bedrock-customization-{s3_suffix}\"\n",
    "s3_client = boto3.client('s3')\n",
    "bedrock = boto3.client(service_name=\"bedrock\")\n",
    "bedrock_runtime = boto3.client(service_name=\"bedrock-runtime\")\n",
    "iam = boto3.client('iam', region_name=region)"
   ]
  },
  {
   "cell_type": "code",
   "execution_count": 6,
   "id": "91fb4000-0efd-48ef-bda1-c409e0011e80",
   "metadata": {
    "tags": []
   },
   "outputs": [],
   "source": [
    "import uuid\n",
    "suffix = str(uuid.uuid4())\n",
    "role_name = \"BedrockRole-\" + suffix\n",
    "s3_bedrock_finetuning_access_policy=\"BedrockPolicy-\" + suffix\n",
    "customization_role = f\"arn:aws:iam::{account_id}:role/{role_name}\""
   ]
  },
  {
   "cell_type": "markdown",
   "id": "c2fd9022-9880-40e5-8f85-c301ed14cfad",
   "metadata": {},
   "source": [
    "## Testing boto3 connection\n",
    "We will list the foundation models to test the bot3 connection and make sure bedrock client has been successfully created. "
   ]
  },
  {
   "cell_type": "code",
   "execution_count": 7,
   "id": "5ae02ee1-1f59-498e-ab3c-2a34bb6e6da7",
   "metadata": {
    "tags": []
   },
   "outputs": [
    {
     "name": "stdout",
     "output_type": "stream",
     "text": [
      "modelArn : arn:aws:bedrock:us-east-1::foundation-model/amazon.titan-image-generator-v1:0\n",
      "modelId : amazon.titan-image-generator-v1:0\n",
      "modelName : Titan Image Generator G1\n",
      "providerName : Amazon\n",
      "inputModalities : ['TEXT', 'IMAGE']\n",
      "outputModalities : ['IMAGE']\n",
      "customizationsSupported : ['FINE_TUNING']\n",
      "inferenceTypesSupported : ['PROVISIONED']\n",
      "modelLifecycle : {'status': 'ACTIVE'}\n",
      "-----\n",
      "\n",
      "modelArn : arn:aws:bedrock:us-east-1::foundation-model/amazon.titan-text-lite-v1:0:4k\n",
      "modelId : amazon.titan-text-lite-v1:0:4k\n",
      "modelName : Titan Text G1 - Lite\n",
      "providerName : Amazon\n",
      "inputModalities : ['TEXT']\n",
      "outputModalities : ['TEXT']\n",
      "responseStreamingSupported : True\n",
      "customizationsSupported : ['FINE_TUNING', 'CONTINUED_PRE_TRAINING']\n",
      "inferenceTypesSupported : ['PROVISIONED']\n",
      "modelLifecycle : {'status': 'ACTIVE'}\n",
      "-----\n",
      "\n",
      "modelArn : arn:aws:bedrock:us-east-1::foundation-model/amazon.titan-text-express-v1:0:8k\n",
      "modelId : amazon.titan-text-express-v1:0:8k\n",
      "modelName : Titan Text G1 - Express\n",
      "providerName : Amazon\n",
      "inputModalities : ['TEXT']\n",
      "outputModalities : ['TEXT']\n",
      "responseStreamingSupported : True\n",
      "customizationsSupported : ['FINE_TUNING', 'CONTINUED_PRE_TRAINING']\n",
      "inferenceTypesSupported : ['PROVISIONED']\n",
      "modelLifecycle : {'status': 'ACTIVE'}\n",
      "-----\n",
      "\n",
      "modelArn : arn:aws:bedrock:us-east-1::foundation-model/amazon.titan-embed-image-v1:0\n",
      "modelId : amazon.titan-embed-image-v1:0\n",
      "modelName : Titan Multimodal Embeddings G1\n",
      "providerName : Amazon\n",
      "inputModalities : ['TEXT', 'IMAGE']\n",
      "outputModalities : ['EMBEDDING']\n",
      "customizationsSupported : ['FINE_TUNING']\n",
      "inferenceTypesSupported : ['PROVISIONED']\n",
      "modelLifecycle : {'status': 'ACTIVE'}\n",
      "-----\n",
      "\n",
      "modelArn : arn:aws:bedrock:us-east-1::foundation-model/cohere.command-text-v14:7:4k\n",
      "modelId : cohere.command-text-v14:7:4k\n",
      "modelName : Command\n",
      "providerName : Cohere\n",
      "inputModalities : ['TEXT']\n",
      "outputModalities : ['TEXT']\n",
      "responseStreamingSupported : True\n",
      "customizationsSupported : ['FINE_TUNING']\n",
      "inferenceTypesSupported : ['PROVISIONED']\n",
      "modelLifecycle : {'status': 'ACTIVE'}\n",
      "-----\n",
      "\n",
      "modelArn : arn:aws:bedrock:us-east-1::foundation-model/cohere.command-light-text-v14:7:4k\n",
      "modelId : cohere.command-light-text-v14:7:4k\n",
      "modelName : Command Light\n",
      "providerName : Cohere\n",
      "inputModalities : ['TEXT']\n",
      "outputModalities : ['TEXT']\n",
      "responseStreamingSupported : True\n",
      "customizationsSupported : ['FINE_TUNING']\n",
      "inferenceTypesSupported : ['PROVISIONED']\n",
      "modelLifecycle : {'status': 'ACTIVE'}\n",
      "-----\n",
      "\n",
      "modelArn : arn:aws:bedrock:us-east-1::foundation-model/meta.llama2-13b-v1:0:4k\n",
      "modelId : meta.llama2-13b-v1:0:4k\n",
      "modelName : Llama 2 13B\n",
      "providerName : Meta\n",
      "inputModalities : ['TEXT']\n",
      "outputModalities : ['TEXT']\n",
      "responseStreamingSupported : True\n",
      "customizationsSupported : ['FINE_TUNING']\n",
      "inferenceTypesSupported : []\n",
      "modelLifecycle : {'status': 'LEGACY'}\n",
      "-----\n",
      "\n",
      "modelArn : arn:aws:bedrock:us-east-1::foundation-model/meta.llama2-70b-v1:0:4k\n",
      "modelId : meta.llama2-70b-v1:0:4k\n",
      "modelName : Llama 2 70B\n",
      "providerName : Meta\n",
      "inputModalities : ['TEXT']\n",
      "outputModalities : ['TEXT']\n",
      "responseStreamingSupported : True\n",
      "customizationsSupported : ['FINE_TUNING']\n",
      "inferenceTypesSupported : []\n",
      "modelLifecycle : {'status': 'LEGACY'}\n",
      "-----\n",
      "\n"
     ]
    }
   ],
   "source": [
    "for model in bedrock.list_foundation_models(\n",
    "    byCustomizationType=\"FINE_TUNING\")[\"modelSummaries\"]:\n",
    "    for key, value in model.items():\n",
    "        print(key, \":\", value)\n",
    "    print(\"-----\\n\")"
   ]
  },
  {
   "cell_type": "markdown",
   "id": "66ad09f2-71c0-48b9-b45c-e061d046aa59",
   "metadata": {},
   "source": [
    "## Create s3 bucket\n",
    "In this step we will create a s3 bucket, which will be used to store data for fine-tuning and continued pre-training notebooks. "
   ]
  },
  {
   "cell_type": "code",
   "execution_count": 8,
   "id": "4a977f93-699d-497e-9e32-1109a12de196",
   "metadata": {
    "tags": []
   },
   "outputs": [],
   "source": [
    "# Create S3 bucket for knowledge base data source\n",
    "s3bucket = s3_client.create_bucket(\n",
    "    Bucket=bucket_name,\n",
    "    ## Uncomment the following if you run into errors\n",
    "    # CreateBucketConfiguration={\n",
    "    #     'LocationConstraint':region,\n",
    "    # },\n",
    ")"
   ]
  },
  {
   "cell_type": "markdown",
   "id": "701a949e-e46b-44a8-9264-b4054948e76e",
   "metadata": {},
   "source": [
    "## Creating role and policies required to run customization jobs with Amazon Bedrock"
   ]
  },
  {
   "cell_type": "markdown",
   "id": "114928f6-c959-4bcd-80ac-dc6712b538b2",
   "metadata": {},
   "source": [
    "This JSON object defines the trust relationship that allows the bedrock service to assume a role that will give it the ability to talk to other required AWS services. The conditions set restrict the assumption of the role to a specfic account ID and a specific component of the bedrock service (model_customization_jobs)"
   ]
  },
  {
   "cell_type": "code",
   "execution_count": 9,
   "id": "fc3a4cc0-5760-45a6-afcc-9dbfea34c0c4",
   "metadata": {
    "tags": []
   },
   "outputs": [],
   "source": [
    "ROLE_DOC = f\"\"\"{{\n",
    "    \"Version\": \"2012-10-17\",\n",
    "    \"Statement\": [\n",
    "        {{\n",
    "            \"Effect\": \"Allow\",\n",
    "            \"Principal\": {{\n",
    "                \"Service\": \"bedrock.amazonaws.com\"\n",
    "            }},\n",
    "            \"Action\": \"sts:AssumeRole\",\n",
    "            \"Condition\": {{\n",
    "                \"StringEquals\": {{\n",
    "                    \"aws:SourceAccount\": \"{account_id}\"\n",
    "                }},\n",
    "                \"ArnEquals\": {{\n",
    "                    \"aws:SourceArn\": \"arn:aws:bedrock:{region}:{account_id}:model-customization-job/*\"\n",
    "                }}\n",
    "            }}\n",
    "        }}\n",
    "    ]\n",
    "}}\n",
    "\"\"\""
   ]
  },
  {
   "cell_type": "markdown",
   "id": "506c40f4-011a-4df2-b40d-9d9e7338d251",
   "metadata": {},
   "source": [
    "This JSON object defines the permissions of the role we want bedrock to assume to allow access to the S3 bucket that we created that will hold our fine-tuning datasets and allow certain bucket and object manipulations."
   ]
  },
  {
   "cell_type": "code",
   "execution_count": 10,
   "id": "bca5fd36-f08f-40e0-a679-241b2fe6a522",
   "metadata": {
    "tags": []
   },
   "outputs": [],
   "source": [
    "ACCESS_POLICY_DOC = f\"\"\"{{\n",
    "    \"Version\": \"2012-10-17\",\n",
    "    \"Statement\": [\n",
    "        {{\n",
    "            \"Effect\": \"Allow\",\n",
    "            \"Action\": [\n",
    "                \"s3:AbortMultipartUpload\",\n",
    "                \"s3:DeleteObject\",\n",
    "                \"s3:PutObject\",\n",
    "                \"s3:GetObject\",\n",
    "                \"s3:GetBucketAcl\",\n",
    "                \"s3:GetBucketNotification\",\n",
    "                \"s3:ListBucket\",\n",
    "                \"s3:PutBucketNotification\"\n",
    "            ],\n",
    "            \"Resource\": [\n",
    "                \"arn:aws:s3:::{bucket_name}\",\n",
    "                \"arn:aws:s3:::{bucket_name}/*\"\n",
    "            ]\n",
    "        }}\n",
    "    ]\n",
    "}}\"\"\"\n"
   ]
  },
  {
   "cell_type": "code",
   "execution_count": 11,
   "id": "97da80e2-4a4c-4442-8f65-cee348453faa",
   "metadata": {
    "tags": []
   },
   "outputs": [
    {
     "name": "stdout",
     "output_type": "stream",
     "text": [
      "{'Role': {'Path': '/',\n",
      "          'RoleName': 'BedrockRole-257549b9-3aff-4c30-86e9-530c1416e6ac',\n",
      "          'RoleId': 'AROARMEM2CNOOMCZTHO5I',\n",
      "          'Arn': 'arn:aws:iam::094784590684:role/BedrockRole-257549b9-3aff-4c30-86e9-530c1416e6ac',\n",
      "          'CreateDate': datetime.datetime(2024, 7, 12, 5, 35, 7, tzinfo=tzlocal()),\n",
      "          'AssumeRolePolicyDocument': {'Version': '2012-10-17',\n",
      "                                       'Statement': [{'Effect': 'Allow',\n",
      "                                                      'Principal': {'Service': 'bedrock.amazonaws.com'},\n",
      "                                                      'Action': 'sts:AssumeRole',\n",
      "                                                      'Condition': {'StringEquals': {'aws:SourceAccount': '094784590684'},\n",
      "                                                                    'ArnEquals': {'aws:SourceArn': 'arn:aws:bedrock:us-east-1:094784590684:model-customization-job/*'}}}]}},\n",
      " 'ResponseMetadata': {'RequestId': '8b973123-4d38-47f2-9340-a5bd2907c10b',\n",
      "                      'HTTPStatusCode': 200,\n",
      "                      'HTTPHeaders': {'date': 'Fri, 12 Jul 2024 05:35:07 GMT',\n",
      "                                      'x-amzn-requestid': '8b973123-4d38-47f2-9340-a5bd2907c10b',\n",
      "                                      'content-type': 'text/xml',\n",
      "                                      'content-length': '1812'},\n",
      "                      'RetryAttempts': 0}}\n"
     ]
    }
   ],
   "source": [
    "response = iam.create_role(\n",
    "    RoleName=role_name,\n",
    "    AssumeRolePolicyDocument=ROLE_DOC,\n",
    "    Description=\"Role for Bedrock to access S3 for finetuning\",\n",
    ")\n",
    "pprint.pp(response)"
   ]
  },
  {
   "cell_type": "code",
   "execution_count": 12,
   "id": "4f421420-17a6-4a66-8530-a4109286cbbf",
   "metadata": {
    "tags": []
   },
   "outputs": [
    {
     "name": "stdout",
     "output_type": "stream",
     "text": [
      "'arn:aws:iam::094784590684:role/BedrockRole-257549b9-3aff-4c30-86e9-530c1416e6ac'\n"
     ]
    }
   ],
   "source": [
    "role_arn = response[\"Role\"][\"Arn\"]\n",
    "pprint.pp(role_arn)"
   ]
  },
  {
   "cell_type": "code",
   "execution_count": 13,
   "id": "cef1b934-560b-450f-a23f-0981d026356a",
   "metadata": {
    "tags": []
   },
   "outputs": [
    {
     "name": "stdout",
     "output_type": "stream",
     "text": [
      "{'Policy': {'PolicyName': 'BedrockPolicy-257549b9-3aff-4c30-86e9-530c1416e6ac',\n",
      "            'PolicyId': 'ANPARMEM2CNOPFWJXG3E2',\n",
      "            'Arn': 'arn:aws:iam::094784590684:policy/BedrockPolicy-257549b9-3aff-4c30-86e9-530c1416e6ac',\n",
      "            'Path': '/',\n",
      "            'DefaultVersionId': 'v1',\n",
      "            'AttachmentCount': 0,\n",
      "            'PermissionsBoundaryUsageCount': 0,\n",
      "            'IsAttachable': True,\n",
      "            'CreateDate': datetime.datetime(2024, 7, 12, 5, 35, 7, tzinfo=tzlocal()),\n",
      "            'UpdateDate': datetime.datetime(2024, 7, 12, 5, 35, 7, tzinfo=tzlocal())},\n",
      " 'ResponseMetadata': {'RequestId': '8bffbb0b-4903-4692-82e5-de0f1a92d5ce',\n",
      "                      'HTTPStatusCode': 200,\n",
      "                      'HTTPHeaders': {'date': 'Fri, 12 Jul 2024 05:35:07 GMT',\n",
      "                                      'x-amzn-requestid': '8bffbb0b-4903-4692-82e5-de0f1a92d5ce',\n",
      "                                      'content-type': 'text/xml',\n",
      "                                      'content-length': '835'},\n",
      "                      'RetryAttempts': 0}}\n"
     ]
    }
   ],
   "source": [
    "response = iam.create_policy(\n",
    "    PolicyName=s3_bedrock_finetuning_access_policy,\n",
    "    PolicyDocument=ACCESS_POLICY_DOC,\n",
    ")\n",
    "pprint.pp(response)"
   ]
  },
  {
   "cell_type": "code",
   "execution_count": 14,
   "id": "966182e5-ad5c-4f9c-8b49-16f8e528315c",
   "metadata": {
    "tags": []
   },
   "outputs": [
    {
     "name": "stdout",
     "output_type": "stream",
     "text": [
      "'arn:aws:iam::094784590684:policy/BedrockPolicy-257549b9-3aff-4c30-86e9-530c1416e6ac'\n"
     ]
    }
   ],
   "source": [
    "policy_arn = response[\"Policy\"][\"Arn\"]\n",
    "pprint.pp(policy_arn)"
   ]
  },
  {
   "cell_type": "code",
   "execution_count": 15,
   "id": "d39befb8-5bfd-4fa9-9405-3a23c64fc6d1",
   "metadata": {
    "tags": []
   },
   "outputs": [
    {
     "data": {
      "text/plain": [
       "{'ResponseMetadata': {'RequestId': '081e20e5-d600-4e22-9ae1-758abafc53c8',\n",
       "  'HTTPStatusCode': 200,\n",
       "  'HTTPHeaders': {'date': 'Fri, 12 Jul 2024 05:35:07 GMT',\n",
       "   'x-amzn-requestid': '081e20e5-d600-4e22-9ae1-758abafc53c8',\n",
       "   'content-type': 'text/xml',\n",
       "   'content-length': '212'},\n",
       "  'RetryAttempts': 0}}"
      ]
     },
     "execution_count": 15,
     "metadata": {},
     "output_type": "execute_result"
    }
   ],
   "source": [
    "iam.attach_role_policy(\n",
    "    RoleName=role_name,\n",
    "    PolicyArn=policy_arn,\n",
    ")"
   ]
  },
  {
   "cell_type": "markdown",
   "id": "31a57c54-24c6-4231-83f4-cf3fe35f0d9b",
   "metadata": {},
   "source": [
    "Setup for running other notebooks on fine-tuning and continued pre-training is complete. "
   ]
  },
  {
   "cell_type": "markdown",
   "id": "ba13d823-182b-4f1f-9f0c-7772e22400d5",
   "metadata": {},
   "source": [
    "## Prepare CNN news article dataset for fine-tuning job and evaluation\n",
    "The dataset that will be used is a collection of new articles from CNN and the associated highlights from that article. More information can be found at huggingface: https://huggingface.co/datasets/cnn_dailymail"
   ]
  },
  {
   "cell_type": "code",
   "execution_count": 16,
   "id": "d95e39b7-c9d1-4ac8-8f90-2146b8f55e32",
   "metadata": {
    "tags": []
   },
   "outputs": [],
   "source": [
    "#Load cnn dataset from huggingface\n",
    "dataset = load_dataset(\"cnn_dailymail\",'3.0.0')"
   ]
  },
  {
   "cell_type": "markdown",
   "id": "e6a72fbc-90a1-47cb-841f-903b504f8a5e",
   "metadata": {
    "jp-MarkdownHeadingCollapsed": true,
    "jupyter": {
     "outputs_hidden": true
    }
   },
   "source": [
    "View the structure of the dataset\n"
   ]
  },
  {
   "cell_type": "code",
   "execution_count": 17,
   "id": "155ecd97-284d-4873-bc8c-6b84f673d1c5",
   "metadata": {
    "tags": []
   },
   "outputs": [
    {
     "name": "stdout",
     "output_type": "stream",
     "text": [
      "DatasetDict({\n",
      "    train: Dataset({\n",
      "        features: ['article', 'highlights', 'id'],\n",
      "        num_rows: 287113\n",
      "    })\n",
      "    validation: Dataset({\n",
      "        features: ['article', 'highlights', 'id'],\n",
      "        num_rows: 13368\n",
      "    })\n",
      "    test: Dataset({\n",
      "        features: ['article', 'highlights', 'id'],\n",
      "        num_rows: 11490\n",
      "    })\n",
      "})\n"
     ]
    }
   ],
   "source": [
    "print(dataset)"
   ]
  },
  {
   "cell_type": "markdown",
   "id": "8702dfaa-0cdd-4cee-b659-d6f4068e52ac",
   "metadata": {},
   "source": [
    "Prepare the Fine-tuning Dataset\n",
    "In this example, we are using a .jsonl dataset following example format:\n",
    "\n",
    "{\"prompt\": \"<prompt text>\", \"completion\": \"<expected generated text>\"}\n",
    "\n",
    "\n",
    "The following is an example item for a question-answer task:{\"prompt\": \"prompt is AWS\", \"completion\": \"it's Amazon Web Services\"}\n",
    "\n",
    "See more guidance on how to [prepare your Bedrock fine-tuning dataset](https://docs.aws.amazon.com/bedrock/latest/userguide/model-customization-prereq.html)."
   ]
  },
  {
   "cell_type": "markdown",
   "id": "1f804b42-8335-4b44-96b5-96280f52c130",
   "metadata": {},
   "source": [
    "A common prompt structure for instruction fine-tuning includes a system prompt, an instruction,  and an input which provides additional context. Here we define the prompt header that will be added before each article and together will be the 'prompt' component of each datapoint."
   ]
  },
  {
   "cell_type": "code",
   "execution_count": 18,
   "id": "30fe8a52-885e-47a4-bbeb-14de0a3ef7ea",
   "metadata": {
    "tags": []
   },
   "outputs": [],
   "source": [
    "instruction='''Below is an instruction that describes a task, paired with an input that provides further context. Write a response that appropriately completes the request.\n",
    "\n",
    "instruction:\n",
    "\n",
    "Summarize the news article provided below.\n",
    "\n",
    "input:\n",
    "\n",
    "'''"
   ]
  },
  {
   "cell_type": "markdown",
   "id": "beda35a0-c744-4818-bb18-89289d7cb3fd",
   "metadata": {},
   "source": [
    "For the 'completion' component we will attach the word \"response\" and new lines together with the summary/highlights of the article. The transformation of each datapoint is performed with the code below"
   ]
  },
  {
   "cell_type": "code",
   "execution_count": 19,
   "id": "8830553b-104a-42e6-960d-6a48a01bcf01",
   "metadata": {
    "tags": []
   },
   "outputs": [],
   "source": [
    "datapoints_train=[]\n",
    "for dp in dataset['train']:\n",
    "    temp_dict={}\n",
    "    temp_dict['prompt']=instruction+dp['article']\n",
    "    temp_dict['completion']='response:\\n\\n'+dp['highlights']\n",
    "    datapoints_train.append(temp_dict)\n",
    "    "
   ]
  },
  {
   "cell_type": "markdown",
   "id": "c3870486-74c9-4f4b-8d73-46e932367485",
   "metadata": {},
   "source": [
    "An example of a processed datapoint can be printed below"
   ]
  },
  {
   "cell_type": "code",
   "execution_count": 20,
   "id": "dd5521b9-7364-4bde-97cc-9f7157b18211",
   "metadata": {
    "scrolled": true,
    "tags": []
   },
   "outputs": [
    {
     "name": "stdout",
     "output_type": "stream",
     "text": [
      "Below is an instruction that describes a task, paired with an input that provides further context. Write a response that appropriately completes the request.\n",
      "\n",
      "instruction:\n",
      "\n",
      "Summarize the news article provided below.\n",
      "\n",
      "input:\n",
      "\n",
      "(CNN)  -- The National Football League has indefinitely suspended Atlanta Falcons quarterback Michael Vick without pay, officials with the league said Friday. NFL star Michael Vick is set to appear in court Monday. A judge will have the final say on a plea deal. Earlier, Vick admitted to participating in a dogfighting ring as part of a plea agreement with federal prosecutors in Virginia. \"Your admitted conduct was not only illegal, but also cruel and reprehensible. Your team, the NFL, and NFL fans have all been hurt by your actions,\" NFL Commissioner Roger Goodell said in a letter to Vick. Goodell said he would review the status of the suspension after the legal proceedings are over. In papers filed Friday with a federal court in Virginia, Vick also admitted that he and two co-conspirators killed dogs that did not fight well. Falcons owner Arthur Blank said Vick's admissions describe actions that are \"incomprehensible and unacceptable.\" The suspension makes \"a strong statement that conduct which tarnishes the good reputation of the NFL will not be tolerated,\" he said in a statement.  Watch what led to Vick's suspension » . Goodell said the Falcons could \"assert any claims or remedies\" to recover $22 million of Vick's signing bonus from the 10-year, $130 million contract he signed in 2004, according to The Associated Press. Vick said he would plead guilty to one count of \"Conspiracy to Travel in Interstate Commerce in Aid of Unlawful Activities and to Sponsor a Dog in an Animal Fighting Venture\" in a plea agreement filed at U.S. District Court in Richmond, Virginia. The charge is punishable by up to five years in prison, a $250,000 fine, \"full restitution, a special assessment and 3 years of supervised release,\" the plea deal said. Federal prosecutors agreed to ask for the low end of the sentencing guidelines. \"The defendant will plead guilty because the defendant is in fact guilty of the charged offense,\" the plea agreement said. In an additional summary of facts, signed by Vick and filed with the agreement, Vick admitted buying pit bulls and the property used for training and fighting the dogs, but the statement said he did not bet on the fights or receive any of the money won. \"Most of the 'Bad Newz Kennels' operations and gambling monies were provided by Vick,\" the official summary of facts said. Gambling wins were generally split among co-conspirators Tony Taylor, Quanis Phillips and sometimes Purnell Peace, it continued. \"Vick did not gamble by placing side bets on any of the fights. Vick did not receive any of the proceeds from the purses that were won by 'Bad Newz Kennels.' \" Vick also agreed that \"collective efforts\" by him and two others caused the deaths of at least six dogs. Around April, Vick, Peace and Phillips tested some dogs in fighting sessions at Vick's property in Virginia, the statement said. \"Peace, Phillips and Vick agreed to the killing of approximately 6-8 dogs that did not perform well in 'testing' sessions at 1915 Moonlight Road and all of those dogs were killed by various methods, including hanging and drowning. \"Vick agrees and stipulates that these dogs all died as a result of the collective efforts of Peace, Phillips and Vick,\" the summary said. Peace, 35, of Virginia Beach, Virginia; Phillips, 28, of Atlanta, Georgia; and Taylor, 34, of Hampton, Virginia, already have accepted agreements to plead guilty in exchange for reduced sentences. Vick, 27, is scheduled to appear Monday in court, where he is expected to plead guilty before a judge.  See a timeline of the case against Vick » . The judge in the case will have the final say over the plea agreement. The federal case against Vick focused on the interstate conspiracy, but Vick's admission that he was involved in the killing of dogs could lead to local charges, according to CNN legal analyst Jeffrey Toobin. \"It sometimes happens -- not often -- that the state will follow a federal prosecution by charging its own crimes for exactly the same behavior,\" Toobin said Friday. \"The risk for Vick is, if he makes admissions in his federal guilty plea, the state of Virginia could say, 'Hey, look, you admitted violating Virginia state law as well. We're going to introduce that against you and charge you in our court.' \" In the plea deal, Vick agreed to cooperate with investigators and provide all information he may have on any criminal activity and to testify if necessary. Vick also agreed to turn over any documents he has and to submit to polygraph tests. Vick agreed to \"make restitution for the full amount of the costs associated\" with the dogs that are being held by the government. \"Such costs may include, but are not limited to, all costs associated with the care of the dogs involved in that case, including if necessary, the long-term care and/or the humane euthanasia of some or all of those animals.\" Prosecutors, with the support of animal rights activists, have asked for permission to euthanize the dogs. But the dogs could serve as important evidence in the cases against Vick and his admitted co-conspirators. Judge Henry E. Hudson issued an order Thursday telling the U.S. Marshals Service to \"arrest and seize the defendant property, and use discretion and whatever means appropriate to protect and maintain said defendant property.\" Both the judge's order and Vick's filing refer to \"approximately\" 53 pit bull dogs. After Vick's indictment last month, Goodell ordered the quarterback not to report to the Falcons training camp, and the league is reviewing the case. Blank told the NFL Network on Monday he could not speculate on Vick's future as a Falcon, at least not until he had seen \"a statement of facts\" in the case.  E-mail to a friend . CNN's Mike Phelan contributed to this report.\n"
     ]
    }
   ],
   "source": [
    "print(datapoints_train[4]['prompt'])"
   ]
  },
  {
   "cell_type": "markdown",
   "id": "e2764d06-fd82-462c-a014-f5c502b9790b",
   "metadata": {},
   "source": [
    "The same processing is done for the validation and test sets as well."
   ]
  },
  {
   "cell_type": "code",
   "execution_count": 21,
   "id": "167b489b-b493-4945-9bb8-915bd659cb6a",
   "metadata": {
    "tags": []
   },
   "outputs": [],
   "source": [
    "datapoints_valid=[]\n",
    "for dp in dataset['validation']:\n",
    "    temp_dict={}\n",
    "    temp_dict['prompt']=instruction+dp['article']\n",
    "    temp_dict['completion']='response:\\n\\n'+dp['highlights']\n",
    "    datapoints_valid.append(temp_dict)"
   ]
  },
  {
   "cell_type": "code",
   "execution_count": 22,
   "id": "4e4c3627-c73b-4b01-b4be-e2d0daf90038",
   "metadata": {
    "tags": []
   },
   "outputs": [],
   "source": [
    "datapoints_test=[]\n",
    "for dp in dataset['test']:\n",
    "    temp_dict={}\n",
    "    temp_dict['prompt']=instruction+dp['article']\n",
    "    temp_dict['completion']='response:\\n\\n'+dp['highlights']\n",
    "    datapoints_test.append(temp_dict)"
   ]
  },
  {
   "cell_type": "markdown",
   "id": "0626306e-5e07-496b-8c98-1321be24c34b",
   "metadata": {},
   "source": [
    " Here we define some helper functions to process our datapoints further by modifying the number of datapoints we want to include in each set and the max string length of the datapoints we want to include. The final function will convert our datasets into JSONL files."
   ]
  },
  {
   "cell_type": "code",
   "execution_count": 23,
   "id": "84272522-11ce-4b39-9a6b-d58072a6525a",
   "metadata": {
    "tags": []
   },
   "outputs": [],
   "source": [
    "def dp_transform(data_points,num_dps,max_dp_length):\n",
    "    lines=[]\n",
    "    for dp in data_points:\n",
    "        if len(dp['prompt']+dp['completion'])<=max_dp_length:\n",
    "                lines.append(dp)\n",
    "    random.shuffle(lines)\n",
    "    lines=lines[:num_dps]\n",
    "    return lines\n",
    "    "
   ]
  },
  {
   "cell_type": "code",
   "execution_count": 24,
   "id": "1474f15e-1f54-4068-8fc5-9399de20c59b",
   "metadata": {
    "tags": []
   },
   "outputs": [],
   "source": [
    "def jsonl_converter(dataset,file_name):\n",
    "    print(file_name)\n",
    "    with jsonlines.open(file_name, 'w') as writer:\n",
    "        for line in dataset:\n",
    "            writer.write(line)"
   ]
  },
  {
   "cell_type": "markdown",
   "id": "204c7a01-5b9d-457e-982a-f8d07c6dbbc3",
   "metadata": {},
   "source": [
    "Process data partitions. Every LLM may have different input token limits and what string of characters represents a token is defined by a particular model's vocabulary. For simplicity, we have restricted each datapoint to be <=3,000 characters."
   ]
  },
  {
   "cell_type": "code",
   "execution_count": 25,
   "id": "e41088cb-0a0b-4747-9bb2-06371c263318",
   "metadata": {
    "tags": []
   },
   "outputs": [],
   "source": [
    "train=dp_transform(datapoints_train,5000,3000)\n",
    "validation=dp_transform(datapoints_valid,999,3000)\n",
    "test=dp_transform(datapoints_test,10,3000)"
   ]
  },
  {
   "cell_type": "markdown",
   "id": "3d917916-18e6-405a-a268-2484daf709d4",
   "metadata": {},
   "source": [
    "### Create local directory for datasets\n",
    "Please note that your training dataset for fine-tuning cannot be greater than 10K records, and validation dataset has a maximum limit of 1K records."
   ]
  },
  {
   "cell_type": "code",
   "execution_count": 26,
   "id": "efbd16af-052a-4b6c-b2bc-b1f29f15aa7b",
   "metadata": {
    "tags": []
   },
   "outputs": [
    {
     "name": "stdout",
     "output_type": "stream",
     "text": [
      "mkdir: cannot create directory ‘fine-tuning-datasets’: File exists\n"
     ]
    }
   ],
   "source": [
    "dataset_folder=\"fine-tuning-datasets\"\n",
    "train_file_name=\"train-cnn-5K.jsonl\"\n",
    "validation_file_name=\"validation-cnn-1K.jsonl\"\n",
    "test_file_name=\"test-cnn-10.jsonl\"\n",
    "!mkdir fine-tuning-datasets\n",
    "abs_path=os.path.abspath(dataset_folder)"
   ]
  },
  {
   "cell_type": "markdown",
   "id": "e7fe005c-985c-48b8-91c5-ae185ebb7bc7",
   "metadata": {},
   "source": [
    "Create JSONL format datasets for Bedrock fine-tuning job"
   ]
  },
  {
   "cell_type": "code",
   "execution_count": 27,
   "id": "8eb98bd4-dbbb-4d8d-b1ae-9d145ec17b2d",
   "metadata": {
    "tags": []
   },
   "outputs": [
    {
     "name": "stdout",
     "output_type": "stream",
     "text": [
      "/root/amazon-bedrock-workshop-20240712/03_Model_customization/fine-tuning-datasets/train-cnn-5K.jsonl\n",
      "/root/amazon-bedrock-workshop-20240712/03_Model_customization/fine-tuning-datasets/validation-cnn-1K.jsonl\n",
      "/root/amazon-bedrock-workshop-20240712/03_Model_customization/fine-tuning-datasets/test-cnn-10.jsonl\n"
     ]
    }
   ],
   "source": [
    "jsonl_converter(train,f'{abs_path}/{train_file_name}')\n",
    "jsonl_converter(validation,f'{abs_path}/{validation_file_name}')\n",
    "jsonl_converter(test,f'{abs_path}/{test_file_name}')"
   ]
  },
  {
   "cell_type": "markdown",
   "id": "1d2f5a94-dff3-46be-8244-f7ede1d86eeb",
   "metadata": {},
   "source": [
    "### Upload datasets to s3 bucket\n",
    "Uploading both training and test dataset. \n",
    "We will use the training and validation datasets for fine-tuning the model. The test dataset will be used for evaluating the performance of the model on an unseen input."
   ]
  },
  {
   "cell_type": "code",
   "execution_count": 28,
   "id": "d3cd7a7c-c70b-4c82-834e-a4e3d5a1e8e3",
   "metadata": {
    "tags": []
   },
   "outputs": [],
   "source": [
    "s3_client.upload_file(f'{abs_path}/{train_file_name}', bucket_name, f'fine-tuning-datasets/train/{train_file_name}')\n",
    "s3_client.upload_file(f'{abs_path}/{validation_file_name}', bucket_name, f'fine-tuning-datasets/validation/{validation_file_name}')\n",
    "s3_client.upload_file(f'{abs_path}/{test_file_name}', bucket_name, f'fine-tuning-datasets/test/{test_file_name}')"
   ]
  },
  {
   "cell_type": "code",
   "execution_count": 29,
   "id": "132fe247-b952-4ee8-82a9-24fa4a68bf75",
   "metadata": {
    "tags": []
   },
   "outputs": [],
   "source": [
    "s3_train_uri=f's3://{bucket_name}/fine-tuning-datasets/train/{train_file_name}'\n",
    "s3_validation_uri=f's3://{bucket_name}/fine-tuning-datasets/validation/{validation_file_name}'\n",
    "s3_test_uri=f's3://{bucket_name}/fine-tuning-datasets/test/{test_file_name}'"
   ]
  },
  {
   "cell_type": "markdown",
   "id": "bbde75b8-84ab-4884-a7fc-c4feef786643",
   "metadata": {},
   "source": [
    "## Storing variables to be used in other notebooks. \n",
    "\n",
    "> Please make sure to use the same kernel as used for 00_setup.ipynb for other notebooks on fine-tuning and continued pre-training. "
   ]
  },
  {
   "cell_type": "code",
   "execution_count": 30,
   "id": "417c8faa-0995-410a-85ac-e3478e230d45",
   "metadata": {
    "tags": []
   },
   "outputs": [
    {
     "name": "stdout",
     "output_type": "stream",
     "text": [
      "Stored 'role_arn' (str)\n",
      "Stored 'bucket_name' (str)\n",
      "Stored 'role_name' (str)\n",
      "Stored 'policy_arn' (str)\n",
      "Stored 's3_train_uri' (str)\n",
      "Stored 's3_validation_uri' (str)\n",
      "Stored 's3_test_uri' (str)\n"
     ]
    }
   ],
   "source": [
    "%store role_arn\n",
    "%store bucket_name\n",
    "%store role_name\n",
    "%store policy_arn\n",
    "%store s3_train_uri\n",
    "%store s3_validation_uri\n",
    "%store s3_test_uri"
   ]
  },
  {
   "cell_type": "markdown",
   "id": "fc6967ed-8fcc-4c9c-b53d-dbbb5d084899",
   "metadata": {},
   "source": [
    "### We are now ready to create a fine-tuning job with Bedrock!"
   ]
  },
  {
   "cell_type": "code",
   "execution_count": null,
   "id": "7fafb433-012d-4296-af59-3a57a87322ed",
   "metadata": {},
   "outputs": [],
   "source": []
  }
 ],
 "metadata": {
  "availableInstances": [
   {
    "_defaultOrder": 0,
    "_isFastLaunch": true,
    "category": "General purpose",
    "gpuNum": 0,
    "hideHardwareSpecs": false,
    "memoryGiB": 4,
    "name": "ml.t3.medium",
    "vcpuNum": 2
   },
   {
    "_defaultOrder": 1,
    "_isFastLaunch": false,
    "category": "General purpose",
    "gpuNum": 0,
    "hideHardwareSpecs": false,
    "memoryGiB": 8,
    "name": "ml.t3.large",
    "vcpuNum": 2
   },
   {
    "_defaultOrder": 2,
    "_isFastLaunch": false,
    "category": "General purpose",
    "gpuNum": 0,
    "hideHardwareSpecs": false,
    "memoryGiB": 16,
    "name": "ml.t3.xlarge",
    "vcpuNum": 4
   },
   {
    "_defaultOrder": 3,
    "_isFastLaunch": false,
    "category": "General purpose",
    "gpuNum": 0,
    "hideHardwareSpecs": false,
    "memoryGiB": 32,
    "name": "ml.t3.2xlarge",
    "vcpuNum": 8
   },
   {
    "_defaultOrder": 4,
    "_isFastLaunch": true,
    "category": "General purpose",
    "gpuNum": 0,
    "hideHardwareSpecs": false,
    "memoryGiB": 8,
    "name": "ml.m5.large",
    "vcpuNum": 2
   },
   {
    "_defaultOrder": 5,
    "_isFastLaunch": false,
    "category": "General purpose",
    "gpuNum": 0,
    "hideHardwareSpecs": false,
    "memoryGiB": 16,
    "name": "ml.m5.xlarge",
    "vcpuNum": 4
   },
   {
    "_defaultOrder": 6,
    "_isFastLaunch": false,
    "category": "General purpose",
    "gpuNum": 0,
    "hideHardwareSpecs": false,
    "memoryGiB": 32,
    "name": "ml.m5.2xlarge",
    "vcpuNum": 8
   },
   {
    "_defaultOrder": 7,
    "_isFastLaunch": false,
    "category": "General purpose",
    "gpuNum": 0,
    "hideHardwareSpecs": false,
    "memoryGiB": 64,
    "name": "ml.m5.4xlarge",
    "vcpuNum": 16
   },
   {
    "_defaultOrder": 8,
    "_isFastLaunch": false,
    "category": "General purpose",
    "gpuNum": 0,
    "hideHardwareSpecs": false,
    "memoryGiB": 128,
    "name": "ml.m5.8xlarge",
    "vcpuNum": 32
   },
   {
    "_defaultOrder": 9,
    "_isFastLaunch": false,
    "category": "General purpose",
    "gpuNum": 0,
    "hideHardwareSpecs": false,
    "memoryGiB": 192,
    "name": "ml.m5.12xlarge",
    "vcpuNum": 48
   },
   {
    "_defaultOrder": 10,
    "_isFastLaunch": false,
    "category": "General purpose",
    "gpuNum": 0,
    "hideHardwareSpecs": false,
    "memoryGiB": 256,
    "name": "ml.m5.16xlarge",
    "vcpuNum": 64
   },
   {
    "_defaultOrder": 11,
    "_isFastLaunch": false,
    "category": "General purpose",
    "gpuNum": 0,
    "hideHardwareSpecs": false,
    "memoryGiB": 384,
    "name": "ml.m5.24xlarge",
    "vcpuNum": 96
   },
   {
    "_defaultOrder": 12,
    "_isFastLaunch": false,
    "category": "General purpose",
    "gpuNum": 0,
    "hideHardwareSpecs": false,
    "memoryGiB": 8,
    "name": "ml.m5d.large",
    "vcpuNum": 2
   },
   {
    "_defaultOrder": 13,
    "_isFastLaunch": false,
    "category": "General purpose",
    "gpuNum": 0,
    "hideHardwareSpecs": false,
    "memoryGiB": 16,
    "name": "ml.m5d.xlarge",
    "vcpuNum": 4
   },
   {
    "_defaultOrder": 14,
    "_isFastLaunch": false,
    "category": "General purpose",
    "gpuNum": 0,
    "hideHardwareSpecs": false,
    "memoryGiB": 32,
    "name": "ml.m5d.2xlarge",
    "vcpuNum": 8
   },
   {
    "_defaultOrder": 15,
    "_isFastLaunch": false,
    "category": "General purpose",
    "gpuNum": 0,
    "hideHardwareSpecs": false,
    "memoryGiB": 64,
    "name": "ml.m5d.4xlarge",
    "vcpuNum": 16
   },
   {
    "_defaultOrder": 16,
    "_isFastLaunch": false,
    "category": "General purpose",
    "gpuNum": 0,
    "hideHardwareSpecs": false,
    "memoryGiB": 128,
    "name": "ml.m5d.8xlarge",
    "vcpuNum": 32
   },
   {
    "_defaultOrder": 17,
    "_isFastLaunch": false,
    "category": "General purpose",
    "gpuNum": 0,
    "hideHardwareSpecs": false,
    "memoryGiB": 192,
    "name": "ml.m5d.12xlarge",
    "vcpuNum": 48
   },
   {
    "_defaultOrder": 18,
    "_isFastLaunch": false,
    "category": "General purpose",
    "gpuNum": 0,
    "hideHardwareSpecs": false,
    "memoryGiB": 256,
    "name": "ml.m5d.16xlarge",
    "vcpuNum": 64
   },
   {
    "_defaultOrder": 19,
    "_isFastLaunch": false,
    "category": "General purpose",
    "gpuNum": 0,
    "hideHardwareSpecs": false,
    "memoryGiB": 384,
    "name": "ml.m5d.24xlarge",
    "vcpuNum": 96
   },
   {
    "_defaultOrder": 20,
    "_isFastLaunch": false,
    "category": "General purpose",
    "gpuNum": 0,
    "hideHardwareSpecs": true,
    "memoryGiB": 0,
    "name": "ml.geospatial.interactive",
    "supportedImageNames": [
     "sagemaker-geospatial-v1-0"
    ],
    "vcpuNum": 0
   },
   {
    "_defaultOrder": 21,
    "_isFastLaunch": true,
    "category": "Compute optimized",
    "gpuNum": 0,
    "hideHardwareSpecs": false,
    "memoryGiB": 4,
    "name": "ml.c5.large",
    "vcpuNum": 2
   },
   {
    "_defaultOrder": 22,
    "_isFastLaunch": false,
    "category": "Compute optimized",
    "gpuNum": 0,
    "hideHardwareSpecs": false,
    "memoryGiB": 8,
    "name": "ml.c5.xlarge",
    "vcpuNum": 4
   },
   {
    "_defaultOrder": 23,
    "_isFastLaunch": false,
    "category": "Compute optimized",
    "gpuNum": 0,
    "hideHardwareSpecs": false,
    "memoryGiB": 16,
    "name": "ml.c5.2xlarge",
    "vcpuNum": 8
   },
   {
    "_defaultOrder": 24,
    "_isFastLaunch": false,
    "category": "Compute optimized",
    "gpuNum": 0,
    "hideHardwareSpecs": false,
    "memoryGiB": 32,
    "name": "ml.c5.4xlarge",
    "vcpuNum": 16
   },
   {
    "_defaultOrder": 25,
    "_isFastLaunch": false,
    "category": "Compute optimized",
    "gpuNum": 0,
    "hideHardwareSpecs": false,
    "memoryGiB": 72,
    "name": "ml.c5.9xlarge",
    "vcpuNum": 36
   },
   {
    "_defaultOrder": 26,
    "_isFastLaunch": false,
    "category": "Compute optimized",
    "gpuNum": 0,
    "hideHardwareSpecs": false,
    "memoryGiB": 96,
    "name": "ml.c5.12xlarge",
    "vcpuNum": 48
   },
   {
    "_defaultOrder": 27,
    "_isFastLaunch": false,
    "category": "Compute optimized",
    "gpuNum": 0,
    "hideHardwareSpecs": false,
    "memoryGiB": 144,
    "name": "ml.c5.18xlarge",
    "vcpuNum": 72
   },
   {
    "_defaultOrder": 28,
    "_isFastLaunch": false,
    "category": "Compute optimized",
    "gpuNum": 0,
    "hideHardwareSpecs": false,
    "memoryGiB": 192,
    "name": "ml.c5.24xlarge",
    "vcpuNum": 96
   },
   {
    "_defaultOrder": 29,
    "_isFastLaunch": true,
    "category": "Accelerated computing",
    "gpuNum": 1,
    "hideHardwareSpecs": false,
    "memoryGiB": 16,
    "name": "ml.g4dn.xlarge",
    "vcpuNum": 4
   },
   {
    "_defaultOrder": 30,
    "_isFastLaunch": false,
    "category": "Accelerated computing",
    "gpuNum": 1,
    "hideHardwareSpecs": false,
    "memoryGiB": 32,
    "name": "ml.g4dn.2xlarge",
    "vcpuNum": 8
   },
   {
    "_defaultOrder": 31,
    "_isFastLaunch": false,
    "category": "Accelerated computing",
    "gpuNum": 1,
    "hideHardwareSpecs": false,
    "memoryGiB": 64,
    "name": "ml.g4dn.4xlarge",
    "vcpuNum": 16
   },
   {
    "_defaultOrder": 32,
    "_isFastLaunch": false,
    "category": "Accelerated computing",
    "gpuNum": 1,
    "hideHardwareSpecs": false,
    "memoryGiB": 128,
    "name": "ml.g4dn.8xlarge",
    "vcpuNum": 32
   },
   {
    "_defaultOrder": 33,
    "_isFastLaunch": false,
    "category": "Accelerated computing",
    "gpuNum": 4,
    "hideHardwareSpecs": false,
    "memoryGiB": 192,
    "name": "ml.g4dn.12xlarge",
    "vcpuNum": 48
   },
   {
    "_defaultOrder": 34,
    "_isFastLaunch": false,
    "category": "Accelerated computing",
    "gpuNum": 1,
    "hideHardwareSpecs": false,
    "memoryGiB": 256,
    "name": "ml.g4dn.16xlarge",
    "vcpuNum": 64
   },
   {
    "_defaultOrder": 35,
    "_isFastLaunch": false,
    "category": "Accelerated computing",
    "gpuNum": 1,
    "hideHardwareSpecs": false,
    "memoryGiB": 61,
    "name": "ml.p3.2xlarge",
    "vcpuNum": 8
   },
   {
    "_defaultOrder": 36,
    "_isFastLaunch": false,
    "category": "Accelerated computing",
    "gpuNum": 4,
    "hideHardwareSpecs": false,
    "memoryGiB": 244,
    "name": "ml.p3.8xlarge",
    "vcpuNum": 32
   },
   {
    "_defaultOrder": 37,
    "_isFastLaunch": false,
    "category": "Accelerated computing",
    "gpuNum": 8,
    "hideHardwareSpecs": false,
    "memoryGiB": 488,
    "name": "ml.p3.16xlarge",
    "vcpuNum": 64
   },
   {
    "_defaultOrder": 38,
    "_isFastLaunch": false,
    "category": "Accelerated computing",
    "gpuNum": 8,
    "hideHardwareSpecs": false,
    "memoryGiB": 768,
    "name": "ml.p3dn.24xlarge",
    "vcpuNum": 96
   },
   {
    "_defaultOrder": 39,
    "_isFastLaunch": false,
    "category": "Memory Optimized",
    "gpuNum": 0,
    "hideHardwareSpecs": false,
    "memoryGiB": 16,
    "name": "ml.r5.large",
    "vcpuNum": 2
   },
   {
    "_defaultOrder": 40,
    "_isFastLaunch": false,
    "category": "Memory Optimized",
    "gpuNum": 0,
    "hideHardwareSpecs": false,
    "memoryGiB": 32,
    "name": "ml.r5.xlarge",
    "vcpuNum": 4
   },
   {
    "_defaultOrder": 41,
    "_isFastLaunch": false,
    "category": "Memory Optimized",
    "gpuNum": 0,
    "hideHardwareSpecs": false,
    "memoryGiB": 64,
    "name": "ml.r5.2xlarge",
    "vcpuNum": 8
   },
   {
    "_defaultOrder": 42,
    "_isFastLaunch": false,
    "category": "Memory Optimized",
    "gpuNum": 0,
    "hideHardwareSpecs": false,
    "memoryGiB": 128,
    "name": "ml.r5.4xlarge",
    "vcpuNum": 16
   },
   {
    "_defaultOrder": 43,
    "_isFastLaunch": false,
    "category": "Memory Optimized",
    "gpuNum": 0,
    "hideHardwareSpecs": false,
    "memoryGiB": 256,
    "name": "ml.r5.8xlarge",
    "vcpuNum": 32
   },
   {
    "_defaultOrder": 44,
    "_isFastLaunch": false,
    "category": "Memory Optimized",
    "gpuNum": 0,
    "hideHardwareSpecs": false,
    "memoryGiB": 384,
    "name": "ml.r5.12xlarge",
    "vcpuNum": 48
   },
   {
    "_defaultOrder": 45,
    "_isFastLaunch": false,
    "category": "Memory Optimized",
    "gpuNum": 0,
    "hideHardwareSpecs": false,
    "memoryGiB": 512,
    "name": "ml.r5.16xlarge",
    "vcpuNum": 64
   },
   {
    "_defaultOrder": 46,
    "_isFastLaunch": false,
    "category": "Memory Optimized",
    "gpuNum": 0,
    "hideHardwareSpecs": false,
    "memoryGiB": 768,
    "name": "ml.r5.24xlarge",
    "vcpuNum": 96
   },
   {
    "_defaultOrder": 47,
    "_isFastLaunch": false,
    "category": "Accelerated computing",
    "gpuNum": 1,
    "hideHardwareSpecs": false,
    "memoryGiB": 16,
    "name": "ml.g5.xlarge",
    "vcpuNum": 4
   },
   {
    "_defaultOrder": 48,
    "_isFastLaunch": false,
    "category": "Accelerated computing",
    "gpuNum": 1,
    "hideHardwareSpecs": false,
    "memoryGiB": 32,
    "name": "ml.g5.2xlarge",
    "vcpuNum": 8
   },
   {
    "_defaultOrder": 49,
    "_isFastLaunch": false,
    "category": "Accelerated computing",
    "gpuNum": 1,
    "hideHardwareSpecs": false,
    "memoryGiB": 64,
    "name": "ml.g5.4xlarge",
    "vcpuNum": 16
   },
   {
    "_defaultOrder": 50,
    "_isFastLaunch": false,
    "category": "Accelerated computing",
    "gpuNum": 1,
    "hideHardwareSpecs": false,
    "memoryGiB": 128,
    "name": "ml.g5.8xlarge",
    "vcpuNum": 32
   },
   {
    "_defaultOrder": 51,
    "_isFastLaunch": false,
    "category": "Accelerated computing",
    "gpuNum": 1,
    "hideHardwareSpecs": false,
    "memoryGiB": 256,
    "name": "ml.g5.16xlarge",
    "vcpuNum": 64
   },
   {
    "_defaultOrder": 52,
    "_isFastLaunch": false,
    "category": "Accelerated computing",
    "gpuNum": 4,
    "hideHardwareSpecs": false,
    "memoryGiB": 192,
    "name": "ml.g5.12xlarge",
    "vcpuNum": 48
   },
   {
    "_defaultOrder": 53,
    "_isFastLaunch": false,
    "category": "Accelerated computing",
    "gpuNum": 4,
    "hideHardwareSpecs": false,
    "memoryGiB": 384,
    "name": "ml.g5.24xlarge",
    "vcpuNum": 96
   },
   {
    "_defaultOrder": 54,
    "_isFastLaunch": false,
    "category": "Accelerated computing",
    "gpuNum": 8,
    "hideHardwareSpecs": false,
    "memoryGiB": 768,
    "name": "ml.g5.48xlarge",
    "vcpuNum": 192
   },
   {
    "_defaultOrder": 55,
    "_isFastLaunch": false,
    "category": "Accelerated computing",
    "gpuNum": 8,
    "hideHardwareSpecs": false,
    "memoryGiB": 1152,
    "name": "ml.p4d.24xlarge",
    "vcpuNum": 96
   },
   {
    "_defaultOrder": 56,
    "_isFastLaunch": false,
    "category": "Accelerated computing",
    "gpuNum": 8,
    "hideHardwareSpecs": false,
    "memoryGiB": 1152,
    "name": "ml.p4de.24xlarge",
    "vcpuNum": 96
   },
   {
    "_defaultOrder": 57,
    "_isFastLaunch": false,
    "category": "Accelerated computing",
    "gpuNum": 0,
    "hideHardwareSpecs": false,
    "memoryGiB": 32,
    "name": "ml.trn1.2xlarge",
    "vcpuNum": 8
   },
   {
    "_defaultOrder": 58,
    "_isFastLaunch": false,
    "category": "Accelerated computing",
    "gpuNum": 0,
    "hideHardwareSpecs": false,
    "memoryGiB": 512,
    "name": "ml.trn1.32xlarge",
    "vcpuNum": 128
   },
   {
    "_defaultOrder": 59,
    "_isFastLaunch": false,
    "category": "Accelerated computing",
    "gpuNum": 0,
    "hideHardwareSpecs": false,
    "memoryGiB": 512,
    "name": "ml.trn1n.32xlarge",
    "vcpuNum": 128
   }
  ],
  "kernelspec": {
   "display_name": "Python 3 (ipykernel) (arn:aws:sagemaker:us-east-1:081325390199:image/sagemaker-data-science-310-v1)",
   "language": "python",
   "name": "python3__SAGEMAKER_INTERNAL__arn:aws:sagemaker:us-east-1:081325390199:image/sagemaker-data-science-310-v1"
  },
  "language_info": {
   "codemirror_mode": {
    "name": "ipython",
    "version": 3
   },
   "file_extension": ".py",
   "mimetype": "text/x-python",
   "name": "python",
   "nbconvert_exporter": "python",
   "pygments_lexer": "ipython3",
   "version": "3.10.6"
  }
 },
 "nbformat": 4,
 "nbformat_minor": 5
}
